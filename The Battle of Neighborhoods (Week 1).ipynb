{
 "cells": [
  {
   "cell_type": "markdown",
   "metadata": {
    "collapsed": true
   },
   "source": [
    "# The Battle of Neighborhoods (Week 1)"
   ]
  },
  {
   "cell_type": "markdown",
   "metadata": {},
   "source": [
    "# Business problem"
   ]
  },
  {
   "cell_type": "markdown",
   "metadata": {},
   "source": [
    "  Jerry is an international business man and he is always looking for new opportunities around the world. Recently, He wants to start his restaurant business in north America. After tons of research, he is finally down to two cities: New York and Toronto. Both cities are very diverse and are the financial capitals of their respective countries. Jerry thinks the safest way is to compare the neighborhoods of the two cities and determine how similar or dissimilar they are. And then he can get more helpful information for him making decisions."
   ]
  },
  {
   "cell_type": "markdown",
   "metadata": {},
   "source": [
    "# Data description"
   ]
  },
  {
   "cell_type": "markdown",
   "metadata": {},
   "source": [
    "  Firstly, we need to fetch and explore neighborhoods data of those two cities from Foursquare API. The information we want to focus on are restaurants, coffee shops, house prices and crime rate. We will choose one venue from each city: Manhattan for New York and Downtown for Toronto. We need to apply Neighborhood Segmentation and Clustering to analyzing the neighborhood data and prioritize the best restaurant location in both cities based on foot traffic and cost. Lastly, we can decide which city is the better place for Jerry to get start. "
   ]
  }
 ],
 "metadata": {
  "kernelspec": {
   "display_name": "Python 3.6",
   "language": "python",
   "name": "python3"
  },
  "language_info": {
   "codemirror_mode": {
    "name": "ipython",
    "version": 3
   },
   "file_extension": ".py",
   "mimetype": "text/x-python",
   "name": "python",
   "nbconvert_exporter": "python",
   "pygments_lexer": "ipython3",
   "version": "3.6.8"
  }
 },
 "nbformat": 4,
 "nbformat_minor": 1
}
